{
 "cells": [
  {
   "cell_type": "markdown",
   "metadata": {},
   "source": [
    "# Convolutional Neural Networks: Application\n",
    "\n",
    "Welcome to Course 4's second assignment! In this notebook, you will:\n",
    "\n",
    "- Create a mood classifer using the TF Keras Sequential API\n",
    "- Build a ConvNet to identify sign language digits using the TF Keras Functional API\n",
    "\n",
    "**After this assignment you will be able to:**\n",
    "\n",
    "- Build and train a ConvNet in TensorFlow for a __binary__ classification problem\n",
    "- Build and train a ConvNet in TensorFlow for a __multiclass__ classification problem\n",
    "- Explain different use cases for the Sequential and Functional APIs\n",
    "\n",
    "To complete this assignment, you should already be familiar with TensorFlow. If you are not, please refer back to the **TensorFlow Tutorial** of the third week of Course 2 (\"**Improving deep neural networks**\")."
   ]
  },
  {
   "cell_type": "markdown",
   "metadata": {},
   "source": [
    "## Table of Contents\n",
    "\n",
    "- [1 - Packages](#1)\n",
    "    - [1.1 - Load the Data and Split the Data into Train/Test Sets](#1-1)\n",
    "- [2 - Layers in TF Keras](#2)\n",
    "- [3 - The Sequential API](#3)\n",
    "    - [3.1 - Create the Sequential Model](#3-1)\n",
    "        - [Exercise 1 - happyModel](#ex-1)\n",
    "    - [3.2 - Train and Evaluate the Model](#3-2)\n",
    "- [4 - The Functional API](#4)\n",
    "    - [4.1 - Load the SIGNS Dataset](#4-1)\n",
    "    - [4.2 - Split the Data into Train/Test Sets](#4-2)\n",
    "    - [4.3 - Forward Propagation](#4-3)\n",
    "        - [Exercise 2 - convolutional_model](#ex-2)\n",
    "    - [4.4 - Train the Model](#4-4)\n",
    "- [5 - History Object](#5)\n",
    "- [6 - Bibliography](#6)"
   ]
  },
  {
   "cell_type": "markdown",
   "metadata": {},
   "source": [
    "<a name='1'></a>\n",
    "## 1 - Packages\n",
    "\n",
    "As usual, begin by loading in the packages."
   ]
  },
  {
   "cell_type": "code",
   "execution_count": 1,
   "metadata": {},
   "outputs": [],
   "source": [
    "import math\n",
    "import numpy as np\n",
    "import h5py\n",
    "import matplotlib.pyplot as plt\n",
    "from matplotlib.pyplot import imread\n",
    "import scipy\n",
    "from PIL import Image\n",
    "import pandas as pd\n",
    "import tensorflow as tf\n",
    "import tensorflow.keras.layers as tfl\n",
    "from tensorflow.python.framework import ops\n",
    "from cnn_utils import *\n",
    "from test_utils import summary, comparator\n",
    "\n",
    "%matplotlib inline\n",
    "np.random.seed(1)"
   ]
  },
  {
   "cell_type": "markdown",
   "metadata": {},
   "source": [
    "<a name='1-1'></a>\n",
    "### 1.1 - Load the Data and Split the Data into Train/Test Sets\n",
    "\n",
    "You'll be using the Happy House dataset for this part of the assignment, which contains images of peoples' faces. Your task will be to build a ConvNet that determines whether the people in the images are smiling or not -- because they only get to enter the house if they're smiling!  "
   ]
  },
  {
   "cell_type": "code",
   "execution_count": 2,
   "metadata": {},
   "outputs": [
    {
     "name": "stdout",
     "output_type": "stream",
     "text": [
      "number of training examples = 600\n",
      "number of test examples = 150\n",
      "X_train shape: (600, 64, 64, 3)\n",
      "Y_train shape: (600, 1)\n",
      "X_test shape: (150, 64, 64, 3)\n",
      "Y_test shape: (150, 1)\n"
     ]
    }
   ],
   "source": [
    "X_train_orig, Y_train_orig, X_test_orig, Y_test_orig, classes = load_happy_dataset()\n",
    "\n",
    "# Normalize image vectors\n",
    "X_train = X_train_orig/255.\n",
    "X_test = X_test_orig/255.\n",
    "\n",
    "# Reshape\n",
    "Y_train = Y_train_orig.T\n",
    "Y_test = Y_test_orig.T\n",
    "\n",
    "print (\"number of training examples = \" + str(X_train.shape[0]))\n",
    "print (\"number of test examples = \" + str(X_test.shape[0]))\n",
    "print (\"X_train shape: \" + str(X_train.shape))\n",
    "print (\"Y_train shape: \" + str(Y_train.shape))\n",
    "print (\"X_test shape: \" + str(X_test.shape))\n",
    "print (\"Y_test shape: \" + str(Y_test.shape))"
   ]
  },
  {
   "cell_type": "markdown",
   "metadata": {},
   "source": [
    "You can display the images contained in the dataset. Images are **64x64** pixels in RGB format (3 channels)."
   ]
  },
  {
   "cell_type": "code",
   "execution_count": 3,
   "metadata": {},
   "outputs": [
    {
     "data": {
      "image/png": "[encoded data removed]",
      "text/plain": [
       "<Figure size 432x288 with 1 Axes>"
      ]
     },
     "metadata": {
      "needs_background": "light"
     },
     "output_type": "display_data"
    }
   ],
   "source": [
    "index = 124\n",
    "plt.imshow(X_train_orig[index]) #display sample training image\n",
    "plt.show()"
   ]
  },
  {
   "cell_type": "markdown",
   "metadata": {},
   "source": [
    "<a name='2'></a>\n",
    "## 2 - Layers in TF Keras \n",
    "\n",
    "In the previous assignment, you created layers manually in numpy. In TF Keras, you don't have to write code directly to create layers. Rather, TF Keras has pre-defined layers you can use. \n",
    "\n",
    "When you create a layer in TF Keras, you are creating a function that takes some input and transforms it into an output you can reuse later. Nice and easy! "
   ]
  },
  {
   "cell_type": "markdown",
   "metadata": {},
   "source": [
    "<a name='3'></a>\n",
    "## 3 - The Sequential API\n",
    "\n",
    "In the previous assignment, you built helper functions using `numpy` to understand the mechanics behind convolutional neural networks. Most practical applications of deep learning today are built using programming frameworks, which have many built-in functions you can simply call. Keras is a high-level abstraction built on top of TensorFlow, which allows for even more simplified and optimized model creation and training. \n",
    "\n",
    "For the first part of this assignment, you'll create a model using TF Keras' Sequential API, which allows you to build layer by layer, and is ideal for building models where each layer has **exactly one** input tensor and **one** output tensor. \n",
    "\n",
    "As you'll see, using the Sequential API is simple and straightforward, but is only appropriate for simpler, more straightforward tasks. Later in this notebook you'll spend some time building with a more flexible, powerful alternative: the Functional API. \n",
    " "
   ]
  },
  {
   "cell_type": "markdown",
   "metadata": {},
   "source": [
    "<a name='3-1'></a>\n",
    "### 3.1 - Create the Sequential Model\n",
    "\n",
    "As mentioned earlier, the TensorFlow Keras Sequential API can be used to build simple models with layer operations that proceed in a sequential order. \n",
    "\n",
    "You can also add layers incrementally to a Sequential model with the `.add()` method, or remove them using the `.pop()` method, much like you would in a regular Python list.\n",
    "\n",
    "Actually, you can think of a Sequential model as behaving like a list of layers. Like Python lists, Sequential layers are ordered, and the order in which they are specified matters.  If your model is non-linear or contains layers with multiple inputs or outputs, a Sequential model wouldn't be the right choice!\n",
    "\n",
    "For any layer construction in Keras, you'll need to specify the input shape in advance. This is because in Keras, the shape of the weights is based on the shape of the inputs. The weights are only created when the model first sees some input data. Sequential models can be created by passing a list of layers to the Sequential constructor, like you will do in the next assignment.\n",
    "\n",
    "<a name='ex-1'></a>\n",
    "### Exercise 1 - happyModel\n",
    "\n",
    "Implement the `happyModel` function below to build the following model: `ZEROPAD2D -> CONV2D -> BATCHNORM -> RELU -> MAXPOOL -> FLATTEN -> DENSE`. Take help from [tf.keras.layers](https://www.tensorflow.org/api_docs/python/tf/keras/layers) \n",
    "\n",
    "Also, plug in the following parameters for all the steps:\n",
    "\n",
    " - [ZeroPadding2D](https://www.tensorflow.org/api_docs/python/tf/keras/layers/ZeroPadding2D): padding 3, input shape 64 x 64 x 3\n",
    " - [Conv2D](https://www.tensorflow.org/api_docs/python/tf/keras/layers/Conv2D): Use 32 7x7 filters, stride 1\n",
    " - [BatchNormalization](https://www.tensorflow.org/api_docs/python/tf/keras/layers/BatchNormalization): for axis 3\n",
    " - [ReLU](https://www.tensorflow.org/api_docs/python/tf/keras/layers/ReLU)\n",
    " - [MaxPool2D](https://www.tensorflow.org/api_docs/python/tf/keras/layers/MaxPool2D): Using default parameters\n",
    " - [Flatten](https://www.tensorflow.org/api_docs/python/tf/keras/layers/Flatten) the previous output.\n",
    " - Fully-connected ([Dense](https://www.tensorflow.org/api_docs/python/tf/keras/layers/Dense)) layer: Apply a fully connected layer with 1 neuron and a sigmoid activation. \n",
    " \n",
    " \n",
    " **Hint:**\n",
    " \n",
    " Use **tfl** as shorthand for **tensorflow.keras.layers**"
   ]
  },
  {
   "cell_type": "code",
   "execution_count": 4,
   "metadata": {
    "deletable": false,
    "nbgrader": {
     "cell_type": "code",
     "checksum": "95d28b191f257bdd5b70c7b8952559d5",
     "grade": false,
     "grade_id": "cell-0e56d3fc28b69aec",
     "locked": false,
     "schema_version": 3,
     "solution": true,
     "task": false
    }
   },
   "outputs": [],
   "source": [
    "# GRADED FUNCTION: happyModel\n",
    "\n",
    "def happyModel():\n",
    "    \"\"\"\n",
    "    Implements the forward propagation for the binary classification model:\n",
    "    ZEROPAD2D -> CONV2D -> BATCHNORM -> RELU -> MAXPOOL -> FLATTEN -> DENSE\n",
    "    \n",
    "    Note that for simplicity and grading purposes, you'll hard-code all the values\n",
    "    such as the stride and kernel (filter) sizes. \n",
    "    Normally, functions should take these values as function parameters.\n",
    "    \n",
    "    Arguments:\n",
    "    None\n",
    "\n",
    "    Returns:\n",
    "    model -- TF Keras model (object containing the information for the entire training process) \n",
    "    \"\"\"\n",
    "    model = tf.keras.Sequential([\n",
    "            ## ZeroPadding2D with padding 3, input shape of 64 x 64 x 3\n",
    "            tf.keras.layers.ZeroPadding2D(padding=(3,3), input_shape=(64, 64, 3), data_format=\"channels_last\"),\n",
    "            ## Conv2D with 32 7x7 filters and stride of 1\n",
    "            tf.keras.layers.Conv2D(32, (7, 7), strides = (1, 1), name = 'conv0'),\n",
    "            ## BatchNormalization for axis 3\n",
    "            tf.keras.layers.BatchNormalization(axis =3,name = 'bn0'),\n",
    "            ## ReLU\n",
    "            tf.keras.layers.ReLU(),\n",
    "            ## Max Pooling 2D with default parameters\n",
    "            \n",
    "            ## Flatten layer\n",
    "            \n",
    "            ## Dense layer with 1 unit for output & 'sigmoid' activation\n",
    "            \n",
    "            # YOUR CODE STARTS HERE\n",
    "            tf.keras.layers.MaxPooling2D((2, 2), name='max_pool0'),\n",
    "    \n",
    "        ## Flatten layer            \n",
    "        tf.keras.layers.Flatten(),\n",
    "    \n",
    "        ## Dense layer with 1 unit for output & 'sigmoid' activation            \n",
    "        tf.keras.layers.Dense(1, activation='sigmoid', name='fc'),\n",
    "            \n",
    "            # YOUR CODE ENDS HERE\n",
    "        ])\n",
    "    \n",
    "    return model"
   ]
  },
  {
   "cell_type": "code",
   "execution_count": 5,
   "metadata": {
    "deletable": false,
    "editable": false,
    "nbgrader": {
     "cell_type": "code",
     "checksum": "8d3575c950e2e78149be2d05d671c80d",
     "grade": true,
     "grade_id": "cell-e3e1046e5c33d775",
     "locked": true,
     "points": 10,
     "schema_version": 3,
     "solution": false,
     "task": false
    }
   },
   "outputs": [
    {
     "name": "stdout",
     "output_type": "stream",
     "text": [
      "['ZeroPadding2D', (None, 70, 70, 3), 0, ((3, 3), (3, 3))]\n",
      "['Conv2D', (None, 64, 64, 32), 4736, 'valid', 'linear', 'GlorotUniform']\n",
      "['BatchNormalization', (None, 64, 64, 32), 128]\n",
      "['ReLU', (None, 64, 64, 32), 0]\n",
      "['MaxPooling2D', (None, 32, 32, 32), 0, (2, 2), (2, 2), 'valid']\n",
      "['Flatten', (None, 32768), 0]\n",
      "['Dense', (None, 1), 32769, 'sigmoid']\n",
      "\u001b[32mAll tests passed!\u001b[0m\n"
     ]
    }
   ],
   "source": [
    "happy_model = happyModel()\n",
    "# Print a summary for each layer\n",
    "for layer in summary(happy_model):\n",
    "    print(layer)\n",
    "    \n",
    "output = [['ZeroPadding2D', (None, 70, 70, 3), 0, ((3, 3), (3, 3))],\n",
    "            ['Conv2D', (None, 64, 64, 32), 4736, 'valid', 'linear', 'GlorotUniform'],\n",
    "            ['BatchNormalization', (None, 64, 64, 32), 128],\n",
    "            ['ReLU', (None, 64, 64, 32), 0],\n",
    "            ['MaxPooling2D', (None, 32, 32, 32), 0, (2, 2), (2, 2), 'valid'],\n",
    "            ['Flatten', (None, 32768), 0],\n",
    "            ['Dense', (None, 1), 32769, 'sigmoid']]\n",
    "    \n",
    "comparator(summary(happy_model), output)"
   ]
  },
  {
   "cell_type": "markdown",
   "metadata": {},
   "source": [
    "Now that your model is created, you can compile it for training with an optimizer and loss of your choice. When the string `accuracy` is specified as a metric, the type of accuracy used will be automatically converted based on the loss function used. This is one of the many optimizations built into TensorFlow that make your life easier! If you'd like to read more on how the compiler operates, check the docs [here](https://www.tensorflow.org/api_docs/python/tf/keras/Model#compile)."
   ]
  },
  {
   "cell_type": "code",
   "execution_count": 6,
   "metadata": {},
   "outputs": [],
   "source": [
    "happy_model.compile(optimizer='adam',\n",
    "                   loss='binary_crossentropy',\n",
    "                   metrics=['accuracy'])"
   ]
  },
  {
   "cell_type": "markdown",
   "metadata": {},
   "source": [
    "It's time to check your model's parameters with the `.summary()` method. This will display the types of layers you have, the shape of the outputs, and how many parameters are in each layer. "
   ]
  },
  {
   "cell_type": "code",
   "execution_count": 7,
   "metadata": {},
   "outputs": [
    {
     "name": "stdout",
     "output_type": "stream",
     "text": [
      "Model: \"sequential\"\n",
      "_________________________________________________________________\n",
      "Layer (type)                 Output Shape              Param #   \n",
      "=================================================================\n",
      "zero_padding2d (ZeroPadding2 (None, 70, 70, 3)         0         \n",
      "_________________________________________________________________\n",
      "conv0 (Conv2D)               (None, 64, 64, 32)        4736      \n",
      "_________________________________________________________________\n",
      "bn0 (BatchNormalization)     (None, 64, 64, 32)        128       \n",
      "_________________________________________________________________\n",
      "re_lu (ReLU)                 (None, 64, 64, 32)        0         \n",
      "_________________________________________________________________\n",
      "max_pool0 (MaxPooling2D)     (None, 32, 32, 32)        0         \n",
      "_________________________________________________________________\n",
      "flatten (Flatten)            (None, 32768)             0         \n",
      "_________________________________________________________________\n",
      "fc (Dense)                   (None, 1)                 32769     \n",
      "=================================================================\n",
      "Total params: 37,633\n",
      "Trainable params: 37,569\n",
      "Non-trainable params: 64\n",
      "_________________________________________________________________\n"
     ]
    }
   ],
   "source": [
    "happy_model.summary()"
   ]
  },
  {
   "cell_type": "markdown",
   "metadata": {},
   "source": [
    "<a name='3-2'></a>\n",
    "### 3.2 - Train and Evaluate the Model\n",
    "\n",
    "After creating the model, compiling it with your choice of optimizer and loss function, and doing a sanity check on its contents, you are now ready to build! \n",
    "\n",
    "Simply call `.fit()` to train. That's it! No need for mini-batching, saving, or complex backpropagation computations. That's all been done for you, as you're using a TensorFlow dataset with the batches specified already. You do have the option to specify epoch number or minibatch size if you like (for example, in the case of an un-batched dataset)."
   ]
  },
  {
   "cell_type": "code",
   "execution_count": 8,
   "metadata": {},
   "outputs": [
    {
     "name": "stdout",
     "output_type": "stream",
     "text": [
      "Epoch 1/10\n",
      "38/38 [==============================] - 3s 92ms/step - loss: 1.6045 - accuracy: 0.6433\n",
      "Epoch 2/10\n",
      "38/38 [==============================] - 3s 87ms/step - loss: 0.2702 - accuracy: 0.8967\n",
      "Epoch 3/10\n",
      "38/38 [==============================] - 3s 87ms/step - loss: 0.1786 - accuracy: 0.9267\n",
      "Epoch 4/10\n",
      "38/38 [==============================] - 3s 87ms/step - loss: 0.1436 - accuracy: 0.9467\n",
      "Epoch 5/10\n",
      "38/38 [==============================] - 3s 87ms/step - loss: 0.1749 - accuracy: 0.9200\n",
      "Epoch 6/10\n",
      "38/38 [==============================] - 3s 87ms/step - loss: 0.0824 - accuracy: 0.9750\n",
      "Epoch 7/10\n",
      "38/38 [==============================] - 3s 84ms/step - loss: 0.1882 - accuracy: 0.9317\n",
      "Epoch 8/10\n",
      "38/38 [==============================] - 3s 87ms/step - loss: 0.1279 - accuracy: 0.9550\n",
      "Epoch 9/10\n",
      "38/38 [==============================] - 3s 87ms/step - loss: 0.1982 - accuracy: 0.9350\n",
      "Epoch 10/10\n",
      "38/38 [==============================] - 3s 87ms/step - loss: 0.0904 - accuracy: 0.9700\n"
     ]
    },
    {
     "data": {
      "text/plain": [
       "<tensorflow.python.keras.callbacks.History at 0x7f1c6ae5d090>"
      ]
     },
     "execution_count": 8,
     "metadata": {},
     "output_type": "execute_result"
    }
   ],
   "source": [
    "happy_model.fit(X_train, Y_train, epochs=10, batch_size=16)"
   ]
  },
  {
   "cell_type": "markdown",
   "metadata": {},
   "source": [
    "After that completes, just use `.evaluate()` to evaluate against your test set. This function will print the value of the loss function and the performance metrics specified during the compilation of the model. In this case, the `binary_crossentropy` and the `accuracy` respectively."
   ]
  },
  {
   "cell_type": "code",
   "execution_count": 9,
   "metadata": {},
   "outputs": [
    {
     "name": "stdout",
     "output_type": "stream",
     "text": [
      "5/5 [==============================] - 0s 22ms/step - loss: 0.5718 - accuracy: 0.7467\n"
     ]
    },
    {
     "data": {
      "text/plain": [
       "[0.5717592835426331, 0.746666669845581]"
      ]
     },
     "execution_count": 9,
     "metadata": {},
     "output_type": "execute_result"
    }
   ],
   "source": [
    "happy_model.evaluate(X_test, Y_test)"
   ]
  },
  {
   "cell_type": "markdown",
   "metadata": {},
   "source": [
    "Easy, right? But what if you need to build a model with shared layers, branches, or multiple inputs and outputs? This is where Sequential, with its beautifully simple yet limited functionality, won't be able to help you. \n",
    "\n",
    "Next up: Enter the Functional API, your slightly more complex, highly flexible friend.  "
   ]
  },
  {
   "cell_type": "markdown",
   "metadata": {},
   "source": [
    "<a name='4'></a>\n",
    "## 4 - The Functional API"
   ]
  },
  {
   "cell_type": "markdown",
   "metadata": {},
   "source": [
    "Welcome to the second half of the assignment, where you'll use Keras' flexible [Functional API](https://www.tensorflow.org/guide/keras/functional) to build a ConvNet that can differentiate between 6 sign language digits. \n",
    "\n",
    "The Functional API can handle models with non-linear topology, shared layers, as well as layers with multiple inputs or outputs. Imagine that, where the Sequential API requires the model to move in a linear fashion through its layers, the Functional API allows much more flexibility. Where Sequential is a straight line, a Functional model is a graph, where the nodes of the layers can connect in many more ways than one. \n",
    "\n",
    "In the visual example below, the one possible direction of the movement Sequential model is shown in contrast to a skip connection, which is just one of the many ways a Functional model can be constructed. A skip connection, as you might have guessed, skips some layer in the network and feeds the output to a later layer in the network. Don't worry, you'll be spending more time with skip connections very soon! "
   ]
  },
  {
   "cell_type": "markdown",
   "metadata": {},
   "source": [
    "<img src=\"images/seq_vs_func.png\" style=\"width:350px;height:200px;\">"
   ]
  },
  {
   "cell_type": "markdown",
   "metadata": {},
   "source": [
    "<a name='4-1'></a>\n",
    "### 4.1 - Load the SIGNS Dataset\n",
    "\n",
    "As a reminder, the SIGNS dataset is a collection of 6 signs representing numbers from 0 to 5."
   ]
  },
  {
   "cell_type": "code",
   "execution_count": 10,
   "metadata": {},
   "outputs": [],
   "source": [
    "# Loading the data (signs)\n",
    "X_train_orig, Y_train_orig, X_test_orig, Y_test_orig, classes = load_signs_dataset()"
   ]
  },
  {
   "cell_type": "markdown",
   "metadata": {},
   "source": [
    "<img src=\"images/SIGNS.png\" style=\"width:800px;height:300px;\">\n",
    "\n",
    "The next cell will show you an example of a labelled image in the dataset. Feel free to change the value of `index` below and re-run to see different examples. "
   ]
  },
  {
   "cell_type": "code",
   "execution_count": 11,
   "metadata": {},
   "outputs": [
    {
     "name": "stdout",
     "output_type": "stream",
     "text": [
      "y = 4\n"
     ]
    },
    {
     "data": {
      "image/png": "[encoded data removed]",
      "text/plain": [
       "<Figure size 432x288 with 1 Axes>"
      ]
     },
     "metadata": {
      "needs_background": "light"
     },
     "output_type": "display_data"
    }
   ],
   "source": [
    "# Example of an image from the dataset\n",
    "index = 9\n",
    "plt.imshow(X_train_orig[index])\n",
    "print (\"y = \" + str(np.squeeze(Y_train_orig[:, index])))"
   ]
  },
  {
   "cell_type": "markdown",
   "metadata": {},
   "source": [
    "<a name='4-2'></a>\n",
    "### 4.2 - Split the Data into Train/Test Sets\n",
    "\n",
    "In Course 2, you built a fully-connected network for this dataset. But since this is an image dataset, it is more natural to apply a ConvNet to it.\n",
    "\n",
    "To get started, let's examine the shapes of your data. "
   ]
  },
  {
   "cell_type": "code",
   "execution_count": 12,
   "metadata": {},
   "outputs": [
    {
     "name": "stdout",
     "output_type": "stream",
     "text": [
      "number of training examples = 1080\n",
      "number of test examples = 120\n",
      "X_train shape: (1080, 64, 64, 3)\n",
      "Y_train shape: (1080, 6)\n",
      "X_test shape: (120, 64, 64, 3)\n",
      "Y_test shape: (120, 6)\n"
     ]
    }
   ],
   "source": [
    "X_train = X_train_orig/255.\n",
    "X_test = X_test_orig/255.\n",
    "Y_train = convert_to_one_hot(Y_train_orig, 6).T\n",
    "Y_test = convert_to_one_hot(Y_test_orig, 6).T\n",
    "print (\"number of training examples = \" + str(X_train.shape[0]))\n",
    "print (\"number of test examples = \" + str(X_test.shape[0]))\n",
    "print (\"X_train shape: \" + str(X_train.shape))\n",
    "print (\"Y_train shape: \" + str(Y_train.shape))\n",
    "print (\"X_test shape: \" + str(X_test.shape))\n",
    "print (\"Y_test shape: \" + str(Y_test.shape))"
   ]
  },
  {
   "cell_type": "markdown",
   "metadata": {},
   "source": [
    "<a name='4-3'></a>\n",
    "### 4.3 - Forward Propagation\n",
    "\n",
    "In TensorFlow, there are built-in functions that implement the convolution steps for you. By now, you should be familiar with how TensorFlow builds computational graphs. In the [Functional API](https://www.tensorflow.org/guide/keras/functional), you create a graph of layers. This is what allows such great flexibility.\n",
    "\n",
    "However, the following model could also be defined using the Sequential API since the information flow is on a single line. But don't deviate. What we want you to learn is to use the functional API.\n",
    "\n",
    "Begin building your graph of layers by creating an input node that functions as a callable object:\n",
    "\n",
    "- **input_img = tf.keras.Input(shape=input_shape):** \n",
    "\n",
    "Then, create a new node in the graph of layers by calling a layer on the `input_img` object: \n",
    "\n",
    "- **tf.keras.layers.Conv2D(filters= ... , kernel_size= ... , padding='same')(input_img):** Read the full documentation on [Conv2D](https://www.tensorflow.org/api_docs/python/tf/keras/layers/Conv2D).\n",
    "\n",
    "- **tf.keras.layers.MaxPool2D(pool_size=(f, f), strides=(s, s), padding='same'):** `MaxPool2D()` downsamples your input using a window of size (f, f) and strides of size (s, s) to carry out max pooling over each window.  For max pooling, you usually operate on a single example at a time and a single channel at a time. Read the full documentation on [MaxPool2D](https://www.tensorflow.org/api_docs/python/tf/keras/layers/MaxPool2D).\n",
    "\n",
    "- **tf.keras.layers.ReLU():** computes the elementwise ReLU of Z (which can be any shape). You can read the full documentation on [ReLU](https://www.tensorflow.org/api_docs/python/tf/keras/layers/ReLU).\n",
    "\n",
    "- **tf.keras.layers.Flatten()**: given a tensor \"P\", this function takes each training (or test) example in the batch and flattens it into a 1D vector.  \n",
    "\n",
    "    * If a tensor P has the shape (batch_size,h,w,c), it returns a flattened tensor with shape (batch_size, k), where $k=h \\times w \\times c$.  \"k\" equals the product of all the dimension sizes other than the first dimension.\n",
    "    \n",
    "    * For example, given a tensor with dimensions [100, 2, 3, 4], it flattens the tensor to be of shape [100, 24], where 24 = 2 * 3 * 4.  You can read the full documentation on [Flatten](https://www.tensorflow.org/api_docs/python/tf/keras/layers/Flatten).\n",
    "\n",
    "- **tf.keras.layers.Dense(units= ... , activation='softmax')(F):** given the flattened input F, it returns the output computed using a fully connected layer. You can read the full documentation on [Dense](https://www.tensorflow.org/api_docs/python/tf/keras/layers/Dense).\n",
    "\n",
    "In the last function above (`tf.keras.layers.Dense()`), the fully connected layer automatically initializes weights in the graph and keeps on training them as you train the model. Hence, you did not need to initialize those weights when initializing the parameters.\n",
    "\n",
    "Lastly, before creating the model, you'll need to define the output using the last of the function's compositions (in this example, a Dense layer): \n",
    "\n",
    "- **outputs = tf.keras.layers.Dense(units=6, activation='softmax')(F)**\n",
    "\n",
    "\n",
    "#### Window, kernel, filter, pool\n",
    "\n",
    "The words \"kernel\" and \"filter\" are used to refer to the same thing. The word \"filter\" accounts for the amount of \"kernels\" that will be used in a single convolution layer. \"Pool\" is the name of the operation that takes the max or average value of the kernels. \n",
    "\n",
    "This is why the parameter `pool_size` refers to `kernel_size`, and you use `(f,f)` to refer to the filter size. \n",
    "\n",
    "Pool size and kernel size refer to the same thing in different objects - They refer to the shape of the window where the operation takes place. "
   ]
  },
  {
   "cell_type": "markdown",
   "metadata": {},
   "source": [
    "<a name='ex-2'></a>\n",
    "### Exercise 2 - convolutional_model\n",
    "\n",
    "Implement the `convolutional_model` function below to build the following model: `CONV2D -> RELU -> MAXPOOL -> CONV2D -> RELU -> MAXPOOL -> FLATTEN -> DENSE`. Use the functions above! \n",
    "\n",
    "Also, plug in the following parameters for all the steps:\n",
    "\n",
    " - [Conv2D](https://www.tensorflow.org/api_docs/python/tf/keras/layers/Conv2D): Use 8 4 by 4 filters, stride 1, padding is \"SAME\"\n",
    " - [ReLU](https://www.tensorflow.org/api_docs/python/tf/keras/layers/ReLU)\n",
    " - [MaxPool2D](https://www.tensorflow.org/api_docs/python/tf/keras/layers/MaxPool2D): Use an 8 by 8 filter size and an 8 by 8 stride, padding is \"SAME\"\n",
    " - **Conv2D**: Use 16 2 by 2 filters, stride 1, padding is \"SAME\"\n",
    " - **ReLU**\n",
    " - **MaxPool2D**: Use a 4 by 4 filter size and a 4 by 4 stride, padding is \"SAME\"\n",
    " - [Flatten](https://www.tensorflow.org/api_docs/python/tf/keras/layers/Flatten) the previous output.\n",
    " - Fully-connected ([Dense](https://www.tensorflow.org/api_docs/python/tf/keras/layers/Dense)) layer: Apply a fully connected layer with 6 neurons and a softmax activation. "
   ]
  },
  {
   "cell_type": "code",
   "execution_count": 91,
   "metadata": {
    "deletable": false,
    "nbgrader": {
     "cell_type": "code",
     "checksum": "f58643806aa8380c96225fc8b4c5e7aa",
     "grade": false,
     "grade_id": "cell-dac51744a9e03f51",
     "locked": false,
     "schema_version": 3,
     "solution": true,
     "task": false
    }
   },
   "outputs": [],
   "source": [
    "# GRADED FUNCTION: convolutional_model\n",
    "\n",
    "def convolutional_model(input_shape):\n",
    "    \"\"\"\n",
    "    Implements the forward propagation for the model:\n",
    "    CONV2D -> RELU -> MAXPOOL -> CONV2D -> RELU -> MAXPOOL -> FLATTEN -> DENSE\n",
    "    \n",
    "    Note that for simplicity and grading purposes, you'll hard-code some values\n",
    "    such as the stride and kernel (filter) sizes. \n",
    "    Normally, functions should take these values as function parameters.\n",
    "    \n",
    "    Arguments:\n",
    "    input_img -- input dataset, of shape (input_shape)\n",
    "\n",
    "    Returns:\n",
    "    model -- TF Keras model (object containing the information for the entire training process) \n",
    "    \"\"\"\n",
    "\n",
    "    input_img = tf.keras.Input(shape=input_shape)\n",
    "    ## CONV2D: 8 filters 4x4, stride of 1, padding 'SAME'\n",
    "    \n",
    "    Z1 = tf.keras.layers.Conv2D(8, (4, 4), strides = (1, 1),padding = \"SAME\", activation =\"linear\",kernel_initializer='glorot_uniform')(input_img)\n",
    "    ## RELU\n",
    "    \n",
    "    A1 = tf.keras.layers.ReLU()(Z1)\n",
    "    ## MAXPOOL: window 8x8, stride 8, padding 'SAME'\n",
    "    \n",
    "    P1 = tf.keras.layers.MaxPool2D(pool_size = (8,8),strides=(8,8), padding='SAME')(A1)\n",
    "    \n",
    "    ## CONV2D: 16 filters 2x2, stride 1, padding 'SAME'\n",
    "        \n",
    "    Z2 = tf.keras.layers.Conv2D(16, (2, 2), strides = (1, 1),padding = \"SAME\", activation =\"linear\",kernel_initializer='glorot_uniform')(P1)\n",
    "    ## RELU\n",
    "    A2 = tf.keras.layers.ReLU()(Z2)\n",
    "    \n",
    "    ## MAXPOOL: window 4x4, stride 4, padding 'SAME'\n",
    "    P2 = tf.keras.layers.MaxPool2D(pool_size = (4,4),strides=(4,4), padding='SAME')(A2)\n",
    "    \n",
    "    ## FLATTEn\n",
    "    F = tf.keras.layers.Flatten()(P2)\n",
    "    \n",
    "    ## Dense layer\n",
    "    ## 6 neurons in output layer. Hint: one of the arguments should be \"activation='softmax'\" \n",
    "    outputs = tf.keras.layers.Dense(6,activation=\"softmax\")(F)\n",
    "    # YOUR CODE STARTS HERE\n",
    "    \n",
    "    \n",
    "    # YOUR CODE ENDS HERE\n",
    "    model = tf.keras.Model(inputs=input_img, outputs=outputs)\n",
    "    return model"
   ]
  },
  {
   "cell_type": "code",
   "execution_count": 92,
   "metadata": {
    "deletable": false,
    "editable": false,
    "nbgrader": {
     "cell_type": "code",
     "checksum": "483d626949930a0b0ef20997e7c6ba72",
     "grade": true,
     "grade_id": "cell-45d22e92042174c9",
     "locked": true,
     "points": 10,
     "schema_version": 3,
     "solution": false,
     "task": false
    }
   },
   "outputs": [
    {
     "name": "stdout",
     "output_type": "stream",
     "text": [
      "Model: \"functional_28\"\n",
      "_________________________________________________________________\n",
      "Layer (type)                 Output Shape              Param #   \n",
      "=================================================================\n",
      "input_40 (InputLayer)        [(None, 64, 64, 3)]       0         \n",
      "_________________________________________________________________\n",
      "conv2d_38 (Conv2D)           (None, 64, 64, 8)         392       \n",
      "_________________________________________________________________\n",
      "re_lu_72 (ReLU)              (None, 64, 64, 8)         0         \n",
      "_________________________________________________________________\n",
      "max_pooling2d_68 (MaxPooling (None, 8, 8, 8)           0         \n",
      "_________________________________________________________________\n",
      "conv2d_39 (Conv2D)           (None, 8, 8, 16)          528       \n",
      "_________________________________________________________________\n",
      "re_lu_73 (ReLU)              (None, 8, 8, 16)          0         \n",
      "_________________________________________________________________\n",
      "max_pooling2d_69 (MaxPooling (None, 2, 2, 16)          0         \n",
      "_________________________________________________________________\n",
      "flatten_23 (Flatten)         (None, 64)                0         \n",
      "_________________________________________________________________\n",
      "dense_18 (Dense)             (None, 6)                 390       \n",
      "=================================================================\n",
      "Total params: 1,310\n",
      "Trainable params: 1,310\n",
      "Non-trainable params: 0\n",
      "_________________________________________________________________\n",
      "\u001b[32mAll tests passed!\u001b[0m\n"
     ]
    }
   ],
   "source": [
    "conv_model = convolutional_model((64, 64, 3))\n",
    "conv_model.compile(optimizer='adam',\n",
    "                  loss='categorical_crossentropy',\n",
    "                  metrics=['accuracy'])\n",
    "conv_model.summary()\n",
    "    \n",
    "output = [['InputLayer', [(None, 64, 64, 3)], 0],\n",
    "        ['Conv2D', (None, 64, 64, 8), 392, 'same', 'linear', 'GlorotUniform'],\n",
    "        ['ReLU', (None, 64, 64, 8), 0],\n",
    "        ['MaxPooling2D', (None, 8, 8, 8), 0, (8, 8), (8, 8), 'same'],\n",
    "        ['Conv2D', (None, 8, 8, 16), 528, 'same', 'linear', 'GlorotUniform'],\n",
    "        ['ReLU', (None, 8, 8, 16), 0],\n",
    "        ['MaxPooling2D', (None, 2, 2, 16), 0, (4, 4), (4, 4), 'same'],\n",
    "        ['Flatten', (None, 64), 0],\n",
    "        ['Dense', (None, 6), 390, 'softmax']]\n",
    "    \n",
    "comparator(summary(conv_model), output)"
   ]
  },
  {
   "cell_type": "markdown",
   "metadata": {},
   "source": [
    "# Both the Sequential and Functional APIs return a TF Keras model object. The only difference is how inputs are handled inside the object model! "
   ]
  },
  {
   "cell_type": "markdown",
   "metadata": {},
   "source": [
    "<a name='4-4'></a>\n",
    "### 4.4 - Train the Model"
   ]
  },
  {
   "cell_type": "code",
   "execution_count": 93,
   "metadata": {},
   "outputs": [
    {
     "name": "stdout",
     "output_type": "stream",
     "text": [
      "Epoch 1/100\n",
      "17/17 [==============================] - 2s 112ms/step - loss: 1.7943 - accuracy: 0.1500 - val_loss: 1.7909 - val_accuracy: 0.1667\n",
      "Epoch 2/100\n",
      "17/17 [==============================] - 2s 111ms/step - loss: 1.7888 - accuracy: 0.1667 - val_loss: 1.7887 - val_accuracy: 0.1667\n",
      "Epoch 3/100\n",
      "17/17 [==============================] - 2s 106ms/step - loss: 1.7854 - accuracy: 0.2250 - val_loss: 1.7859 - val_accuracy: 0.2333\n",
      "Epoch 4/100\n",
      "17/17 [==============================] - 2s 106ms/step - loss: 1.7821 - accuracy: 0.2657 - val_loss: 1.7826 - val_accuracy: 0.2583\n",
      "Epoch 5/100\n",
      "17/17 [==============================] - 2s 106ms/step - loss: 1.7788 - accuracy: 0.3009 - val_loss: 1.7800 - val_accuracy: 0.1833\n",
      "Epoch 6/100\n",
      "17/17 [==============================] - 2s 106ms/step - loss: 1.7742 - accuracy: 0.2241 - val_loss: 1.7748 - val_accuracy: 0.2000\n",
      "Epoch 7/100\n",
      "17/17 [==============================] - 2s 100ms/step - loss: 1.7679 - accuracy: 0.2583 - val_loss: 1.7697 - val_accuracy: 0.2167\n",
      "Epoch 8/100\n",
      "17/17 [==============================] - 2s 100ms/step - loss: 1.7603 - accuracy: 0.3019 - val_loss: 1.7616 - val_accuracy: 0.2500\n",
      "Epoch 9/100\n",
      "17/17 [==============================] - 2s 100ms/step - loss: 1.7507 - accuracy: 0.3389 - val_loss: 1.7502 - val_accuracy: 0.2500\n",
      "Epoch 10/100\n",
      "17/17 [==============================] - 2s 100ms/step - loss: 1.7371 - accuracy: 0.3750 - val_loss: 1.7370 - val_accuracy: 0.3083\n",
      "Epoch 11/100\n",
      "17/17 [==============================] - 2s 101ms/step - loss: 1.7202 - accuracy: 0.4111 - val_loss: 1.7203 - val_accuracy: 0.3667\n",
      "Epoch 12/100\n",
      "17/17 [==============================] - 2s 100ms/step - loss: 1.7001 - accuracy: 0.4231 - val_loss: 1.7000 - val_accuracy: 0.3417\n",
      "Epoch 13/100\n",
      "17/17 [==============================] - 2s 101ms/step - loss: 1.6765 - accuracy: 0.4259 - val_loss: 1.6753 - val_accuracy: 0.4083\n",
      "Epoch 14/100\n",
      "17/17 [==============================] - 2s 106ms/step - loss: 1.6459 - accuracy: 0.4463 - val_loss: 1.6451 - val_accuracy: 0.3750\n",
      "Epoch 15/100\n",
      "17/17 [==============================] - 2s 100ms/step - loss: 1.6114 - accuracy: 0.4481 - val_loss: 1.6099 - val_accuracy: 0.4250\n",
      "Epoch 16/100\n",
      "17/17 [==============================] - 2s 100ms/step - loss: 1.5718 - accuracy: 0.4676 - val_loss: 1.5713 - val_accuracy: 0.3833\n",
      "Epoch 17/100\n",
      "17/17 [==============================] - 2s 100ms/step - loss: 1.5297 - accuracy: 0.4787 - val_loss: 1.5341 - val_accuracy: 0.4500\n",
      "Epoch 18/100\n",
      "17/17 [==============================] - 2s 100ms/step - loss: 1.4841 - accuracy: 0.4907 - val_loss: 1.4902 - val_accuracy: 0.4583\n",
      "Epoch 19/100\n",
      "17/17 [==============================] - 2s 101ms/step - loss: 1.4383 - accuracy: 0.5194 - val_loss: 1.4473 - val_accuracy: 0.4917\n",
      "Epoch 20/100\n",
      "17/17 [==============================] - 2s 101ms/step - loss: 1.3948 - accuracy: 0.5231 - val_loss: 1.4047 - val_accuracy: 0.4833\n",
      "Epoch 21/100\n",
      "17/17 [==============================] - 2s 100ms/step - loss: 1.3507 - accuracy: 0.5370 - val_loss: 1.3641 - val_accuracy: 0.4667\n",
      "Epoch 22/100\n",
      "17/17 [==============================] - 2s 106ms/step - loss: 1.3084 - accuracy: 0.5602 - val_loss: 1.3255 - val_accuracy: 0.5000\n",
      "Epoch 23/100\n",
      "17/17 [==============================] - 2s 106ms/step - loss: 1.2672 - accuracy: 0.5750 - val_loss: 1.2892 - val_accuracy: 0.5333\n",
      "Epoch 24/100\n",
      "17/17 [==============================] - 2s 101ms/step - loss: 1.2285 - accuracy: 0.5907 - val_loss: 1.2538 - val_accuracy: 0.5583\n",
      "Epoch 25/100\n",
      "17/17 [==============================] - 2s 100ms/step - loss: 1.1935 - accuracy: 0.5991 - val_loss: 1.2211 - val_accuracy: 0.5917\n",
      "Epoch 26/100\n",
      "17/17 [==============================] - 2s 100ms/step - loss: 1.1590 - accuracy: 0.6130 - val_loss: 1.1907 - val_accuracy: 0.6000\n",
      "Epoch 27/100\n",
      "17/17 [==============================] - 2s 101ms/step - loss: 1.1260 - accuracy: 0.6204 - val_loss: 1.1606 - val_accuracy: 0.6000\n",
      "Epoch 28/100\n",
      "17/17 [==============================] - 2s 100ms/step - loss: 1.0969 - accuracy: 0.6333 - val_loss: 1.1338 - val_accuracy: 0.6083\n",
      "Epoch 29/100\n",
      "17/17 [==============================] - 2s 106ms/step - loss: 1.0692 - accuracy: 0.6407 - val_loss: 1.1072 - val_accuracy: 0.6333\n",
      "Epoch 30/100\n",
      "17/17 [==============================] - 2s 106ms/step - loss: 1.0437 - accuracy: 0.6537 - val_loss: 1.0830 - val_accuracy: 0.6417\n",
      "Epoch 31/100\n",
      "17/17 [==============================] - 2s 106ms/step - loss: 1.0188 - accuracy: 0.6583 - val_loss: 1.0607 - val_accuracy: 0.6667\n",
      "Epoch 32/100\n",
      "17/17 [==============================] - 2s 105ms/step - loss: 0.9950 - accuracy: 0.6620 - val_loss: 1.0387 - val_accuracy: 0.6917\n",
      "Epoch 33/100\n",
      "17/17 [==============================] - 2s 106ms/step - loss: 0.9718 - accuracy: 0.6731 - val_loss: 1.0189 - val_accuracy: 0.6750\n",
      "Epoch 34/100\n",
      "17/17 [==============================] - 2s 105ms/step - loss: 0.9503 - accuracy: 0.6824 - val_loss: 0.9993 - val_accuracy: 0.7083\n",
      "Epoch 35/100\n",
      "17/17 [==============================] - 2s 106ms/step - loss: 0.9293 - accuracy: 0.6833 - val_loss: 0.9792 - val_accuracy: 0.7167\n",
      "Epoch 36/100\n",
      "17/17 [==============================] - 2s 106ms/step - loss: 0.9100 - accuracy: 0.6944 - val_loss: 0.9607 - val_accuracy: 0.7083\n",
      "Epoch 37/100\n",
      "17/17 [==============================] - 2s 105ms/step - loss: 0.8932 - accuracy: 0.6954 - val_loss: 0.9428 - val_accuracy: 0.7333\n",
      "Epoch 38/100\n",
      "17/17 [==============================] - 2s 106ms/step - loss: 0.8759 - accuracy: 0.7028 - val_loss: 0.9273 - val_accuracy: 0.7333\n",
      "Epoch 39/100\n",
      "17/17 [==============================] - 2s 106ms/step - loss: 0.8590 - accuracy: 0.7102 - val_loss: 0.9112 - val_accuracy: 0.7500\n",
      "Epoch 40/100\n",
      "17/17 [==============================] - 2s 106ms/step - loss: 0.8430 - accuracy: 0.7241 - val_loss: 0.8970 - val_accuracy: 0.7583\n",
      "Epoch 41/100\n",
      "17/17 [==============================] - 2s 106ms/step - loss: 0.8279 - accuracy: 0.7343 - val_loss: 0.8836 - val_accuracy: 0.7583\n",
      "Epoch 42/100\n",
      "17/17 [==============================] - 2s 106ms/step - loss: 0.8134 - accuracy: 0.7389 - val_loss: 0.8709 - val_accuracy: 0.7583\n",
      "Epoch 43/100\n",
      "17/17 [==============================] - 2s 105ms/step - loss: 0.7999 - accuracy: 0.7444 - val_loss: 0.8591 - val_accuracy: 0.7583\n",
      "Epoch 44/100\n",
      "17/17 [==============================] - 2s 106ms/step - loss: 0.7868 - accuracy: 0.7472 - val_loss: 0.8479 - val_accuracy: 0.7583\n",
      "Epoch 45/100\n",
      "17/17 [==============================] - 2s 100ms/step - loss: 0.7741 - accuracy: 0.7528 - val_loss: 0.8369 - val_accuracy: 0.7583\n",
      "Epoch 46/100\n",
      "17/17 [==============================] - 2s 101ms/step - loss: 0.7617 - accuracy: 0.7556 - val_loss: 0.8264 - val_accuracy: 0.7583\n",
      "Epoch 47/100\n",
      "17/17 [==============================] - 2s 106ms/step - loss: 0.7502 - accuracy: 0.7565 - val_loss: 0.8168 - val_accuracy: 0.7667\n",
      "Epoch 48/100\n",
      "17/17 [==============================] - 2s 106ms/step - loss: 0.7388 - accuracy: 0.7602 - val_loss: 0.8075 - val_accuracy: 0.7750\n",
      "Epoch 49/100\n",
      "17/17 [==============================] - 2s 100ms/step - loss: 0.7280 - accuracy: 0.7639 - val_loss: 0.7989 - val_accuracy: 0.7750\n",
      "Epoch 50/100\n",
      "17/17 [==============================] - 2s 102ms/step - loss: 0.7171 - accuracy: 0.7667 - val_loss: 0.7896 - val_accuracy: 0.7667\n",
      "Epoch 51/100\n",
      "17/17 [==============================] - 2s 101ms/step - loss: 0.7067 - accuracy: 0.7694 - val_loss: 0.7810 - val_accuracy: 0.7583\n",
      "Epoch 52/100\n",
      "17/17 [==============================] - 2s 106ms/step - loss: 0.6965 - accuracy: 0.7750 - val_loss: 0.7729 - val_accuracy: 0.7583\n",
      "Epoch 53/100\n",
      "17/17 [==============================] - 2s 100ms/step - loss: 0.6871 - accuracy: 0.7769 - val_loss: 0.7649 - val_accuracy: 0.7583\n",
      "Epoch 54/100\n",
      "17/17 [==============================] - 2s 101ms/step - loss: 0.6777 - accuracy: 0.7806 - val_loss: 0.7574 - val_accuracy: 0.7583\n",
      "Epoch 55/100\n",
      "17/17 [==============================] - 2s 106ms/step - loss: 0.6686 - accuracy: 0.7833 - val_loss: 0.7505 - val_accuracy: 0.7583\n",
      "Epoch 56/100\n",
      "17/17 [==============================] - 2s 111ms/step - loss: 0.6601 - accuracy: 0.7889 - val_loss: 0.7437 - val_accuracy: 0.7583\n",
      "Epoch 57/100\n",
      "17/17 [==============================] - 2s 106ms/step - loss: 0.6518 - accuracy: 0.7917 - val_loss: 0.7368 - val_accuracy: 0.7583\n",
      "Epoch 58/100\n",
      "17/17 [==============================] - 2s 100ms/step - loss: 0.6437 - accuracy: 0.7944 - val_loss: 0.7301 - val_accuracy: 0.7583\n",
      "Epoch 59/100\n",
      "17/17 [==============================] - 2s 101ms/step - loss: 0.6356 - accuracy: 0.7981 - val_loss: 0.7230 - val_accuracy: 0.7583\n",
      "Epoch 60/100\n",
      "17/17 [==============================] - 2s 106ms/step - loss: 0.6279 - accuracy: 0.8000 - val_loss: 0.7166 - val_accuracy: 0.7667\n",
      "Epoch 61/100\n",
      "17/17 [==============================] - 2s 106ms/step - loss: 0.6202 - accuracy: 0.8009 - val_loss: 0.7103 - val_accuracy: 0.7667\n",
      "Epoch 62/100\n",
      "17/17 [==============================] - 2s 106ms/step - loss: 0.6129 - accuracy: 0.8065 - val_loss: 0.7040 - val_accuracy: 0.7667\n",
      "Epoch 63/100\n",
      "17/17 [==============================] - 2s 100ms/step - loss: 0.6059 - accuracy: 0.8093 - val_loss: 0.6981 - val_accuracy: 0.7667\n",
      "Epoch 64/100\n",
      "17/17 [==============================] - 2s 101ms/step - loss: 0.5991 - accuracy: 0.8157 - val_loss: 0.6927 - val_accuracy: 0.7750\n",
      "Epoch 65/100\n",
      "17/17 [==============================] - 2s 101ms/step - loss: 0.5926 - accuracy: 0.8194 - val_loss: 0.6875 - val_accuracy: 0.7750\n",
      "Epoch 66/100\n",
      "17/17 [==============================] - 2s 100ms/step - loss: 0.5863 - accuracy: 0.8222 - val_loss: 0.6819 - val_accuracy: 0.7750\n",
      "Epoch 67/100\n",
      "17/17 [==============================] - 2s 101ms/step - loss: 0.5800 - accuracy: 0.8222 - val_loss: 0.6767 - val_accuracy: 0.7750\n",
      "Epoch 68/100\n",
      "17/17 [==============================] - 2s 100ms/step - loss: 0.5740 - accuracy: 0.8287 - val_loss: 0.6714 - val_accuracy: 0.7917\n",
      "Epoch 69/100\n",
      "17/17 [==============================] - 2s 100ms/step - loss: 0.5681 - accuracy: 0.8306 - val_loss: 0.6663 - val_accuracy: 0.7917\n",
      "Epoch 70/100\n",
      "17/17 [==============================] - 2s 101ms/step - loss: 0.5623 - accuracy: 0.8343 - val_loss: 0.6612 - val_accuracy: 0.7917\n",
      "Epoch 71/100\n",
      "17/17 [==============================] - 2s 101ms/step - loss: 0.5566 - accuracy: 0.8343 - val_loss: 0.6564 - val_accuracy: 0.7917\n",
      "Epoch 72/100\n",
      "17/17 [==============================] - 2s 100ms/step - loss: 0.5513 - accuracy: 0.8333 - val_loss: 0.6515 - val_accuracy: 0.7917\n",
      "Epoch 73/100\n",
      "17/17 [==============================] - 2s 101ms/step - loss: 0.5460 - accuracy: 0.8361 - val_loss: 0.6468 - val_accuracy: 0.7917\n",
      "Epoch 74/100\n",
      "17/17 [==============================] - 2s 101ms/step - loss: 0.5407 - accuracy: 0.8370 - val_loss: 0.6420 - val_accuracy: 0.7917\n",
      "Epoch 75/100\n",
      "17/17 [==============================] - 2s 106ms/step - loss: 0.5356 - accuracy: 0.8389 - val_loss: 0.6373 - val_accuracy: 0.7917\n",
      "Epoch 76/100\n",
      "17/17 [==============================] - 2s 106ms/step - loss: 0.5307 - accuracy: 0.8407 - val_loss: 0.6327 - val_accuracy: 0.7917\n",
      "Epoch 77/100\n",
      "17/17 [==============================] - 2s 106ms/step - loss: 0.5260 - accuracy: 0.8417 - val_loss: 0.6282 - val_accuracy: 0.7917\n",
      "Epoch 78/100\n",
      "17/17 [==============================] - 2s 100ms/step - loss: 0.5212 - accuracy: 0.8426 - val_loss: 0.6235 - val_accuracy: 0.8000\n",
      "Epoch 79/100\n",
      "17/17 [==============================] - 2s 100ms/step - loss: 0.5165 - accuracy: 0.8426 - val_loss: 0.6189 - val_accuracy: 0.8000\n",
      "Epoch 80/100\n",
      "17/17 [==============================] - 2s 101ms/step - loss: 0.5119 - accuracy: 0.8472 - val_loss: 0.6145 - val_accuracy: 0.8000\n",
      "Epoch 81/100\n",
      "17/17 [==============================] - 2s 106ms/step - loss: 0.5074 - accuracy: 0.8472 - val_loss: 0.6104 - val_accuracy: 0.8000\n",
      "Epoch 82/100\n",
      "17/17 [==============================] - 2s 106ms/step - loss: 0.5030 - accuracy: 0.8491 - val_loss: 0.6058 - val_accuracy: 0.8083\n",
      "Epoch 83/100\n",
      "17/17 [==============================] - 2s 100ms/step - loss: 0.4983 - accuracy: 0.8509 - val_loss: 0.6011 - val_accuracy: 0.8083\n",
      "Epoch 84/100\n",
      "17/17 [==============================] - 2s 106ms/step - loss: 0.4938 - accuracy: 0.8500 - val_loss: 0.5968 - val_accuracy: 0.8083\n",
      "Epoch 85/100\n",
      "17/17 [==============================] - 2s 106ms/step - loss: 0.4897 - accuracy: 0.8509 - val_loss: 0.5925 - val_accuracy: 0.8167\n",
      "Epoch 86/100\n",
      "17/17 [==============================] - 2s 106ms/step - loss: 0.4855 - accuracy: 0.8519 - val_loss: 0.5884 - val_accuracy: 0.8167\n",
      "Epoch 87/100\n",
      "17/17 [==============================] - 2s 100ms/step - loss: 0.4815 - accuracy: 0.8519 - val_loss: 0.5839 - val_accuracy: 0.8167\n",
      "Epoch 88/100\n",
      "17/17 [==============================] - 2s 100ms/step - loss: 0.4773 - accuracy: 0.8528 - val_loss: 0.5797 - val_accuracy: 0.8167\n",
      "Epoch 89/100\n",
      "17/17 [==============================] - 2s 101ms/step - loss: 0.4736 - accuracy: 0.8528 - val_loss: 0.5751 - val_accuracy: 0.8167\n",
      "Epoch 90/100\n",
      "17/17 [==============================] - 2s 100ms/step - loss: 0.4695 - accuracy: 0.8546 - val_loss: 0.5707 - val_accuracy: 0.8250\n",
      "Epoch 91/100\n",
      "17/17 [==============================] - 2s 106ms/step - loss: 0.4656 - accuracy: 0.8546 - val_loss: 0.5666 - val_accuracy: 0.8250\n",
      "Epoch 92/100\n",
      "17/17 [==============================] - 2s 105ms/step - loss: 0.4616 - accuracy: 0.8565 - val_loss: 0.5626 - val_accuracy: 0.8250\n",
      "Epoch 93/100\n",
      "17/17 [==============================] - 2s 106ms/step - loss: 0.4575 - accuracy: 0.8593 - val_loss: 0.5583 - val_accuracy: 0.8250\n",
      "Epoch 94/100\n",
      "17/17 [==============================] - 2s 101ms/step - loss: 0.4534 - accuracy: 0.8611 - val_loss: 0.5536 - val_accuracy: 0.8333\n",
      "Epoch 95/100\n",
      "17/17 [==============================] - 2s 101ms/step - loss: 0.4493 - accuracy: 0.8620 - val_loss: 0.5492 - val_accuracy: 0.8333\n",
      "Epoch 96/100\n",
      "17/17 [==============================] - 2s 106ms/step - loss: 0.4454 - accuracy: 0.8648 - val_loss: 0.5447 - val_accuracy: 0.8333\n",
      "Epoch 97/100\n",
      "17/17 [==============================] - 2s 106ms/step - loss: 0.4416 - accuracy: 0.8667 - val_loss: 0.5403 - val_accuracy: 0.8333\n",
      "Epoch 98/100\n",
      "17/17 [==============================] - 2s 106ms/step - loss: 0.4377 - accuracy: 0.8676 - val_loss: 0.5359 - val_accuracy: 0.8333\n",
      "Epoch 99/100\n",
      "17/17 [==============================] - 2s 101ms/step - loss: 0.4340 - accuracy: 0.8685 - val_loss: 0.5319 - val_accuracy: 0.8417\n",
      "Epoch 100/100\n",
      "17/17 [==============================] - 2s 100ms/step - loss: 0.4303 - accuracy: 0.8722 - val_loss: 0.5278 - val_accuracy: 0.8417\n"
     ]
    }
   ],
   "source": [
    "train_dataset = tf.data.Dataset.from_tensor_slices((X_train, Y_train)).batch(64)\n",
    "test_dataset = tf.data.Dataset.from_tensor_slices((X_test, Y_test)).batch(64)\n",
    "history = conv_model.fit(train_dataset, epochs=100, validation_data=test_dataset)"
   ]
  },
  {
   "cell_type": "markdown",
   "metadata": {},
   "source": [
    "<a name='5'></a>\n",
    "## 5 - History Object \n",
    "\n",
    "The history object is an output of the `.fit()` operation, and provides a record of all the loss and metric values in memory. It's stored as a dictionary that you can retrieve at `history.history`: "
   ]
  },
  {
   "cell_type": "code",
   "execution_count": 94,
   "metadata": {},
   "outputs": [
    {
     "data": {
      "text/plain": [
       "{'loss': [1.7942733764648438,\n",
       "  1.7888075113296509,\n",
       "  1.7854182720184326,\n",
       "  1.7821085453033447,\n",
       "  1.7787694931030273,\n",
       "  1.7742319107055664,\n",
       "  1.7678592205047607,\n",
       "  1.7602795362472534,\n",
       "  1.7507290840148926,\n",
       "  1.7370750904083252,\n",
       "  1.7202180624008179,\n",
       "  1.7001227140426636,\n",
       "  1.6764839887619019,\n",
       "  1.64589262008667,\n",
       "  1.6114091873168945,\n",
       "  1.5717906951904297,\n",
       "  1.529679775238037,\n",
       "  1.4841103553771973,\n",
       "  1.4382622241973877,\n",
       "  1.394795298576355,\n",
       "  1.3507198095321655,\n",
       "  1.3083821535110474,\n",
       "  1.2672367095947266,\n",
       "  1.2285332679748535,\n",
       "  1.193467140197754,\n",
       "  1.1589866876602173,\n",
       "  1.1259945631027222,\n",
       "  1.0969301462173462,\n",
       "  1.069205403327942,\n",
       "  1.0436774492263794,\n",
       "  1.0188186168670654,\n",
       "  0.9950346946716309,\n",
       "  0.9717602729797363,\n",
       "  0.9502901434898376,\n",
       "  0.9293004870414734,\n",
       "  0.909957766532898,\n",
       "  0.8931837677955627,\n",
       "  0.8759380578994751,\n",
       "  0.8589958548545837,\n",
       "  0.8430470824241638,\n",
       "  0.8278591632843018,\n",
       "  0.8134241104125977,\n",
       "  0.799927294254303,\n",
       "  0.786791205406189,\n",
       "  0.7741255760192871,\n",
       "  0.7616675496101379,\n",
       "  0.7501811981201172,\n",
       "  0.7387763261795044,\n",
       "  0.7279826998710632,\n",
       "  0.7171278595924377,\n",
       "  0.7066811919212341,\n",
       "  0.6965488195419312,\n",
       "  0.6871117353439331,\n",
       "  0.6776542663574219,\n",
       "  0.6685690879821777,\n",
       "  0.660103440284729,\n",
       "  0.651786208152771,\n",
       "  0.6436838507652283,\n",
       "  0.6356467604637146,\n",
       "  0.6278695464134216,\n",
       "  0.6202046275138855,\n",
       "  0.6129100322723389,\n",
       "  0.6059492230415344,\n",
       "  0.5990744233131409,\n",
       "  0.5925770998001099,\n",
       "  0.5862739086151123,\n",
       "  0.5799985527992249,\n",
       "  0.5739784240722656,\n",
       "  0.5680906772613525,\n",
       "  0.5622761845588684,\n",
       "  0.5566410422325134,\n",
       "  0.5513010621070862,\n",
       "  0.5459688901901245,\n",
       "  0.5407211184501648,\n",
       "  0.535624086856842,\n",
       "  0.5307356119155884,\n",
       "  0.5259642004966736,\n",
       "  0.5211663842201233,\n",
       "  0.5164930820465088,\n",
       "  0.5118693709373474,\n",
       "  0.5074260830879211,\n",
       "  0.5029829740524292,\n",
       "  0.49833470582962036,\n",
       "  0.49382472038269043,\n",
       "  0.48965969681739807,\n",
       "  0.48549285531044006,\n",
       "  0.48148301243782043,\n",
       "  0.4773218333721161,\n",
       "  0.4735565483570099,\n",
       "  0.46952104568481445,\n",
       "  0.46561381220817566,\n",
       "  0.4615958034992218,\n",
       "  0.4575013816356659,\n",
       "  0.45337149500846863,\n",
       "  0.44928696751594543,\n",
       "  0.4454377591609955,\n",
       "  0.44158393144607544,\n",
       "  0.43771645426750183,\n",
       "  0.4339542090892792,\n",
       "  0.4303264319896698],\n",
       " 'accuracy': [0.15000000596046448,\n",
       "  0.1666666716337204,\n",
       "  0.22499999403953552,\n",
       "  0.2657407522201538,\n",
       "  0.30092594027519226,\n",
       "  0.2240740805864334,\n",
       "  0.25833332538604736,\n",
       "  0.3018518388271332,\n",
       "  0.33888888359069824,\n",
       "  0.375,\n",
       "  0.41111111640930176,\n",
       "  0.42314815521240234,\n",
       "  0.42592594027519226,\n",
       "  0.4462963044643402,\n",
       "  0.4481481611728668,\n",
       "  0.46759259700775146,\n",
       "  0.47870370745658875,\n",
       "  0.49074074625968933,\n",
       "  0.519444465637207,\n",
       "  0.5231481194496155,\n",
       "  0.5370370149612427,\n",
       "  0.5601851940155029,\n",
       "  0.574999988079071,\n",
       "  0.5907407402992249,\n",
       "  0.5990740656852722,\n",
       "  0.6129629611968994,\n",
       "  0.6203703880310059,\n",
       "  0.6333333253860474,\n",
       "  0.6407407522201538,\n",
       "  0.6537036895751953,\n",
       "  0.6583333611488342,\n",
       "  0.6620370149612427,\n",
       "  0.6731481552124023,\n",
       "  0.6824073791503906,\n",
       "  0.6833333373069763,\n",
       "  0.6944444179534912,\n",
       "  0.6953703761100769,\n",
       "  0.7027778029441833,\n",
       "  0.710185170173645,\n",
       "  0.7240740656852722,\n",
       "  0.7342592477798462,\n",
       "  0.7388888597488403,\n",
       "  0.7444444298744202,\n",
       "  0.7472222447395325,\n",
       "  0.7527777552604675,\n",
       "  0.7555555701255798,\n",
       "  0.7564814686775208,\n",
       "  0.760185182094574,\n",
       "  0.7638888955116272,\n",
       "  0.7666666507720947,\n",
       "  0.769444465637207,\n",
       "  0.7749999761581421,\n",
       "  0.7768518328666687,\n",
       "  0.7805555462837219,\n",
       "  0.7833333611488342,\n",
       "  0.7888888716697693,\n",
       "  0.7916666865348816,\n",
       "  0.7944444417953491,\n",
       "  0.7981481552124023,\n",
       "  0.800000011920929,\n",
       "  0.8009259104728699,\n",
       "  0.8064814805984497,\n",
       "  0.8092592358589172,\n",
       "  0.8157407641410828,\n",
       "  0.8194444179534912,\n",
       "  0.8222222328186035,\n",
       "  0.8222222328186035,\n",
       "  0.8287037014961243,\n",
       "  0.8305555582046509,\n",
       "  0.8342592716217041,\n",
       "  0.8342592716217041,\n",
       "  0.8333333134651184,\n",
       "  0.8361111283302307,\n",
       "  0.8370370268821716,\n",
       "  0.8388888835906982,\n",
       "  0.8407407402992249,\n",
       "  0.8416666388511658,\n",
       "  0.8425925970077515,\n",
       "  0.8425925970077515,\n",
       "  0.8472222089767456,\n",
       "  0.8472222089767456,\n",
       "  0.8490740656852722,\n",
       "  0.8509259223937988,\n",
       "  0.8500000238418579,\n",
       "  0.8509259223937988,\n",
       "  0.8518518805503845,\n",
       "  0.8518518805503845,\n",
       "  0.8527777791023254,\n",
       "  0.8527777791023254,\n",
       "  0.854629635810852,\n",
       "  0.854629635810852,\n",
       "  0.8564814925193787,\n",
       "  0.8592592477798462,\n",
       "  0.8611111044883728,\n",
       "  0.8620370626449585,\n",
       "  0.864814817905426,\n",
       "  0.8666666746139526,\n",
       "  0.8675925731658936,\n",
       "  0.8685185313224792,\n",
       "  0.8722222447395325],\n",
       " 'val_loss': [1.7908583879470825,\n",
       "  1.7886502742767334,\n",
       "  1.785936951637268,\n",
       "  1.7826035022735596,\n",
       "  1.7800308465957642,\n",
       "  1.7747892141342163,\n",
       "  1.7696682214736938,\n",
       "  1.7615504264831543,\n",
       "  1.7501789331436157,\n",
       "  1.7369552850723267,\n",
       "  1.7202774286270142,\n",
       "  1.7000023126602173,\n",
       "  1.6753299236297607,\n",
       "  1.6450920104980469,\n",
       "  1.6099352836608887,\n",
       "  1.5712836980819702,\n",
       "  1.534117341041565,\n",
       "  1.4901700019836426,\n",
       "  1.4473251104354858,\n",
       "  1.4047404527664185,\n",
       "  1.364137053489685,\n",
       "  1.3255195617675781,\n",
       "  1.2892318964004517,\n",
       "  1.2537862062454224,\n",
       "  1.221114993095398,\n",
       "  1.1906803846359253,\n",
       "  1.1605585813522339,\n",
       "  1.133798360824585,\n",
       "  1.1072124242782593,\n",
       "  1.0829817056655884,\n",
       "  1.0606530904769897,\n",
       "  1.038678765296936,\n",
       "  1.0189210176467896,\n",
       "  0.9992759823799133,\n",
       "  0.9791714549064636,\n",
       "  0.9607146978378296,\n",
       "  0.9427917003631592,\n",
       "  0.9272896647453308,\n",
       "  0.9112194776535034,\n",
       "  0.8969932794570923,\n",
       "  0.883605420589447,\n",
       "  0.8708738088607788,\n",
       "  0.8590500950813293,\n",
       "  0.847949743270874,\n",
       "  0.836938202381134,\n",
       "  0.8263701796531677,\n",
       "  0.8168211579322815,\n",
       "  0.8075311183929443,\n",
       "  0.7988996505737305,\n",
       "  0.7895707488059998,\n",
       "  0.780957043170929,\n",
       "  0.7729184627532959,\n",
       "  0.7649010419845581,\n",
       "  0.7574403285980225,\n",
       "  0.7505149841308594,\n",
       "  0.7437222003936768,\n",
       "  0.7368068695068359,\n",
       "  0.7300841808319092,\n",
       "  0.7230017185211182,\n",
       "  0.7165945768356323,\n",
       "  0.7102985382080078,\n",
       "  0.7040470838546753,\n",
       "  0.6980677247047424,\n",
       "  0.6927015781402588,\n",
       "  0.6875017285346985,\n",
       "  0.6818899512290955,\n",
       "  0.6766785979270935,\n",
       "  0.6714001893997192,\n",
       "  0.6663415431976318,\n",
       "  0.6611700654029846,\n",
       "  0.6563686728477478,\n",
       "  0.6515092849731445,\n",
       "  0.6467993259429932,\n",
       "  0.6419820189476013,\n",
       "  0.6372827887535095,\n",
       "  0.6326648592948914,\n",
       "  0.6282110810279846,\n",
       "  0.623532235622406,\n",
       "  0.6189463138580322,\n",
       "  0.6145040988922119,\n",
       "  0.6103517413139343,\n",
       "  0.6057668328285217,\n",
       "  0.6011431217193604,\n",
       "  0.5968442559242249,\n",
       "  0.5925065279006958,\n",
       "  0.5883832573890686,\n",
       "  0.5838788151741028,\n",
       "  0.5796787142753601,\n",
       "  0.5750985741615295,\n",
       "  0.5707474946975708,\n",
       "  0.5666000843048096,\n",
       "  0.5626373291015625,\n",
       "  0.5582716464996338,\n",
       "  0.5536248683929443,\n",
       "  0.5492485165596008,\n",
       "  0.5447150468826294,\n",
       "  0.5402708649635315,\n",
       "  0.535862386226654,\n",
       "  0.5318647623062134,\n",
       "  0.527789294719696],\n",
       " 'val_accuracy': [0.1666666716337204,\n",
       "  0.1666666716337204,\n",
       "  0.23333333432674408,\n",
       "  0.25833332538604736,\n",
       "  0.18333333730697632,\n",
       "  0.20000000298023224,\n",
       "  0.21666666865348816,\n",
       "  0.25,\n",
       "  0.25,\n",
       "  0.3083333373069763,\n",
       "  0.36666667461395264,\n",
       "  0.34166666865348816,\n",
       "  0.40833333134651184,\n",
       "  0.375,\n",
       "  0.42500001192092896,\n",
       "  0.38333332538604736,\n",
       "  0.44999998807907104,\n",
       "  0.4583333432674408,\n",
       "  0.49166667461395264,\n",
       "  0.4833333194255829,\n",
       "  0.46666666865348816,\n",
       "  0.5,\n",
       "  0.5333333611488342,\n",
       "  0.5583333373069763,\n",
       "  0.5916666388511658,\n",
       "  0.6000000238418579,\n",
       "  0.6000000238418579,\n",
       "  0.6083333492279053,\n",
       "  0.6333333253860474,\n",
       "  0.6416666507720947,\n",
       "  0.6666666865348816,\n",
       "  0.6916666626930237,\n",
       "  0.675000011920929,\n",
       "  0.7083333134651184,\n",
       "  0.7166666388511658,\n",
       "  0.7083333134651184,\n",
       "  0.7333333492279053,\n",
       "  0.7333333492279053,\n",
       "  0.75,\n",
       "  0.7583333253860474,\n",
       "  0.7583333253860474,\n",
       "  0.7583333253860474,\n",
       "  0.7583333253860474,\n",
       "  0.7583333253860474,\n",
       "  0.7583333253860474,\n",
       "  0.7583333253860474,\n",
       "  0.7666666507720947,\n",
       "  0.7749999761581421,\n",
       "  0.7749999761581421,\n",
       "  0.7666666507720947,\n",
       "  0.7583333253860474,\n",
       "  0.7583333253860474,\n",
       "  0.7583333253860474,\n",
       "  0.7583333253860474,\n",
       "  0.7583333253860474,\n",
       "  0.7583333253860474,\n",
       "  0.7583333253860474,\n",
       "  0.7583333253860474,\n",
       "  0.7583333253860474,\n",
       "  0.7666666507720947,\n",
       "  0.7666666507720947,\n",
       "  0.7666666507720947,\n",
       "  0.7666666507720947,\n",
       "  0.7749999761581421,\n",
       "  0.7749999761581421,\n",
       "  0.7749999761581421,\n",
       "  0.7749999761581421,\n",
       "  0.7916666865348816,\n",
       "  0.7916666865348816,\n",
       "  0.7916666865348816,\n",
       "  0.7916666865348816,\n",
       "  0.7916666865348816,\n",
       "  0.7916666865348816,\n",
       "  0.7916666865348816,\n",
       "  0.7916666865348816,\n",
       "  0.7916666865348816,\n",
       "  0.7916666865348816,\n",
       "  0.800000011920929,\n",
       "  0.800000011920929,\n",
       "  0.800000011920929,\n",
       "  0.800000011920929,\n",
       "  0.8083333373069763,\n",
       "  0.8083333373069763,\n",
       "  0.8083333373069763,\n",
       "  0.8166666626930237,\n",
       "  0.8166666626930237,\n",
       "  0.8166666626930237,\n",
       "  0.8166666626930237,\n",
       "  0.8166666626930237,\n",
       "  0.824999988079071,\n",
       "  0.824999988079071,\n",
       "  0.824999988079071,\n",
       "  0.824999988079071,\n",
       "  0.8333333134651184,\n",
       "  0.8333333134651184,\n",
       "  0.8333333134651184,\n",
       "  0.8333333134651184,\n",
       "  0.8333333134651184,\n",
       "  0.8416666388511658,\n",
       "  0.8416666388511658]}"
      ]
     },
     "execution_count": 94,
     "metadata": {},
     "output_type": "execute_result"
    }
   ],
   "source": [
    "history.history"
   ]
  },
  {
   "cell_type": "markdown",
   "metadata": {},
   "source": [
    "Now visualize the loss over time using `history.history`: "
   ]
  },
  {
   "cell_type": "code",
   "execution_count": 95,
   "metadata": {},
   "outputs": [
    {
     "data": {
      "text/plain": [
       "[Text(0, 0.5, 'Accuracy'), Text(0.5, 0, 'Epoch')]"
      ]
     },
     "execution_count": 95,
     "metadata": {},
     "output_type": "execute_result"
    },
    {
     "data": {
      "image/png": "[encoded data removed]",
      "text/plain": [
       "<Figure size 864x576 with 1 Axes>"
      ]
     },
     "metadata": {
      "needs_background": "light"
     },
     "output_type": "display_data"
    },
    {
     "data": {
      "image/png": "[encoded data removed]",
      "text/plain": [
       "<Figure size 864x576 with 1 Axes>"
      ]
     },
     "metadata": {
      "needs_background": "light"
     },
     "output_type": "display_data"
    }
   ],
   "source": [
    "# The history.history[\"loss\"] entry is a dictionary with as many values as epochs that the\n",
    "# model was trained on. \n",
    "df_loss_acc = pd.DataFrame(history.history)\n",
    "df_loss= df_loss_acc[['loss','val_loss']]\n",
    "df_loss.rename(columns={'loss':'train','val_loss':'validation'},inplace=True)\n",
    "df_acc= df_loss_acc[['accuracy','val_accuracy']]\n",
    "df_acc.rename(columns={'accuracy':'train','val_accuracy':'validation'},inplace=True)\n",
    "df_loss.plot(title='Model loss',figsize=(12,8)).set(xlabel='Epoch',ylabel='Loss')\n",
    "df_acc.plot(title='Model Accuracy',figsize=(12,8)).set(xlabel='Epoch',ylabel='Accuracy')"
   ]
  },
  {
   "cell_type": "markdown",
   "metadata": {},
   "source": [
    "**Congratulations**! You've finished the assignment and built two models: One that recognizes  smiles, and another that recognizes SIGN language with almost 80% accuracy on the test set. In addition to that, you now also understand the applications of two Keras APIs: Sequential and Functional. Nicely done! \n",
    "\n",
    "By now, you know a bit about how the Functional API works and may have glimpsed the possibilities. In your next assignment, you'll really get a feel for its power when you get the opportunity to build a very deep ConvNet, using ResNets! "
   ]
  },
  {
   "cell_type": "markdown",
   "metadata": {},
   "source": [
    "<a name='6'></a>\n",
    "## 6 - Bibliography\n",
    "\n",
    "You're always encouraged to read the official documentation. To that end, you can find the docs for the Sequential and Functional APIs here: \n",
    "\n",
    "https://www.tensorflow.org/guide/keras/sequential_model\n",
    "\n",
    "https://www.tensorflow.org/guide/keras/functional"
   ]
  },
  {
   "cell_type": "code",
   "execution_count": null,
   "metadata": {},
   "outputs": [],
   "source": []
  }
 ],
 "metadata": {
  "coursera": {
   "course_slug": "convolutional-neural-networks",
   "graded_item_id": "bwbJV",
   "launcher_item_id": "0TkXB"
  },
  "kernelspec": {
   "display_name": "Python 3",
   "language": "python",
   "name": "python3"
  },
  "language_info": {
   "codemirror_mode": {
    "name": "ipython",
    "version": 3
   },
   "file_extension": ".py",
   "mimetype": "text/x-python",
   "name": "python",
   "nbconvert_exporter": "python",
   "pygments_lexer": "ipython3",
   "version": "3.7.6"
  }
 },
 "nbformat": 4,
 "nbformat_minor": 2
}
